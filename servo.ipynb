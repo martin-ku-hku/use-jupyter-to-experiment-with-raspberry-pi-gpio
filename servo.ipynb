{
 "cells": [
  {
   "cell_type": "code",
   "execution_count": null,
   "id": "trained-soundtrack",
   "metadata": {},
   "outputs": [],
   "source": [
    "from ipywidgets import interact, fixed, IntSlider\n",
    "import RPi.GPIO as GPIO\n",
    "import time"
   ]
  },
  {
   "cell_type": "code",
   "execution_count": null,
   "id": "surface-reservoir",
   "metadata": {},
   "outputs": [],
   "source": [
    "GPIO.setmode(GPIO.BOARD)"
   ]
  },
  {
   "cell_type": "code",
   "execution_count": null,
   "id": "similar-practice",
   "metadata": {},
   "outputs": [],
   "source": [
    "class Servo():\n",
    "    def __init__(self, pin, freq=50):\n",
    "        self.pin = pin\n",
    "        self.freq = freq\n",
    "        self.started = False\n",
    "\n",
    "    def start(self):\n",
    "        GPIO.setup(self.pin, GPIO.OUT)\n",
    "        self.output = GPIO.PWM(self.pin, self.freq)\n",
    "        self.output.start(0)\n",
    "        self.started = True\n",
    "        print(\"Start sending signal to the servo.\")\n",
    "\n",
    "    def set_angle(self, angle):\n",
    "        if not self.started:\n",
    "            print('The servo has not started sending signal.')\n",
    "            return\n",
    "        if angle < 0 or angle > 180:\n",
    "            raise ValueError('The angle must be between 0 and 180')\n",
    "        self.output.ChangeDutyCycle(2+(angle/18))\n",
    "        time.sleep(0.5)\n",
    "        self.output.ChangeDutyCycle(0)\n",
    "\n",
    "    def end(self):\n",
    "        if self.started:\n",
    "            self.started = False\n",
    "            self.output.stop()\n",
    "            GPIO.cleanup()\n",
    "            print(\"Stop sending signal to the servo.\")\n",
    "\n",
    "    def __del__(self):\n",
    "        self.end()"
   ]
  },
  {
   "cell_type": "code",
   "execution_count": null,
   "id": "geographic-glucose",
   "metadata": {},
   "outputs": [],
   "source": [
    "def move(servo, angle):\n",
    "    servo.set_angle(angle)\n",
    "    return angle"
   ]
  },
  {
   "cell_type": "code",
   "execution_count": null,
   "id": "environmental-triumph",
   "metadata": {},
   "outputs": [],
   "source": [
    "servo = Servo(11, 50) # use Pin 11 to generate 50 Hz PWM signal\n",
    "servo.start()"
   ]
  },
  {
   "cell_type": "code",
   "execution_count": null,
   "id": "concrete-glasgow",
   "metadata": {},
   "outputs": [],
   "source": [
    "interact(move, servo=fixed(servo), angle=IntSlider(min=0, max=180, step=1, value=90))"
   ]
  },
  {
   "cell_type": "code",
   "execution_count": null,
   "id": "maritime-safety",
   "metadata": {},
   "outputs": [],
   "source": [
    "servo.end()"
   ]
  },
  {
   "cell_type": "code",
   "execution_count": null,
   "id": "lesser-station",
   "metadata": {},
   "outputs": [],
   "source": []
  }
 ],
 "metadata": {
  "kernelspec": {
   "display_name": "Python 3",
   "language": "python",
   "name": "python3"
  },
  "language_info": {
   "codemirror_mode": {
    "name": "ipython",
    "version": 3
   },
   "file_extension": ".py",
   "mimetype": "text/x-python",
   "name": "python",
   "nbconvert_exporter": "python",
   "pygments_lexer": "ipython3",
   "version": "3.7.3"
  }
 },
 "nbformat": 4,
 "nbformat_minor": 5
}